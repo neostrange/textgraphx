{
 "cells": [
  {
   "cell_type": "code",
   "execution_count": 2,
   "metadata": {},
   "outputs": [
    {
     "name": "stderr",
     "output_type": "stream",
     "text": [
      "/home/neo/environments/text2graphs/venv/lib/python3.10/site-packages/tqdm/auto.py:21: TqdmWarning: IProgress not found. Please update jupyter and ipywidgets. See https://ipywidgets.readthedocs.io/en/stable/user_install.html\n",
      "  from .autonotebook import tqdm as notebook_tqdm\n"
     ]
    },
    {
     "name": "stdout",
     "output_type": "stream",
     "text": [
      "The []\n",
      "quick []\n",
      "brown []\n",
      "fox []\n",
      "jumps []\n",
      "over []\n",
      "the []\n",
      "lazy []\n",
      "dog []\n",
      ". []\n",
      "The quick brown fox jumps over the lazy dog. []\n",
      "[]\n"
     ]
    }
   ],
   "source": [
    "import spacy\n",
    "\n",
    "# Load a transformer model (e.g., en_core_web_trf)\n",
    "nlp = spacy.load(\"en_core_web_trf\")\n",
    "\n",
    "# Process a text\n",
    "doc = nlp(\"The quick brown fox jumps over the lazy dog.\")\n",
    "\n",
    "# Access token vectors\n",
    "for token in doc:\n",
    "    print(token.text, token.vector)\n",
    "\n",
    "# Access sentence vectors\n",
    "for sent in doc.sents:\n",
    "    print(sent.text, sent.vector)\n",
    "\n",
    "# Access document vector\n",
    "print(doc.vector)"
   ]
  }
 ],
 "metadata": {
  "kernelspec": {
   "display_name": "venv",
   "language": "python",
   "name": "python3"
  },
  "language_info": {
   "codemirror_mode": {
    "name": "ipython",
    "version": 3
   },
   "file_extension": ".py",
   "mimetype": "text/x-python",
   "name": "python",
   "nbconvert_exporter": "python",
   "pygments_lexer": "ipython3",
   "version": "3.10.12"
  }
 },
 "nbformat": 4,
 "nbformat_minor": 2
}
